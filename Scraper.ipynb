{
 "cells": [
  {
   "cell_type": "code",
   "execution_count": 34,
   "metadata": {},
   "outputs": [],
   "source": [
    "season = '2018-19'\n",
    "stat_name = 'PTS'"
   ]
  },
  {
   "cell_type": "code",
   "execution_count": 35,
   "metadata": {},
   "outputs": [],
   "source": [
    "import csv, json\n",
    "import requests\n",
    "season = '2018-19'\n",
    "with open('teams.json', 'r') as f:\n",
    "    teams = json.loads(f.read())\n",
    "import requests\n",
    "custom_headers = {\n",
    "        \"accept-encoding\": \"Accepflate, sdch\",\n",
    "        \"accept-language\": \"he-IL,he;q=0.8,en-US;q=0.6,en;q=0.4\",\n",
    "        \"cache-control\": \"max-age=0\",\n",
    "        'connection': \"keep-alive\",\n",
    "        'host': \"stats.nba.com\",\n",
    "        'referer': \"http://stats.nba.com/\",\n",
    "        \"user-agent\":\n",
    "          \"Mozilla/5.0 (Macintosh; Intel Mac OS X 10_11_2) AppleWebKit/537.36 (KHTML, like Gecko) Chrome/52.0.2743.116 Safari/537.36\"\n",
    "}\n",
    "made_requests = []"
   ]
  },
  {
   "cell_type": "code",
   "execution_count": 36,
   "metadata": {},
   "outputs": [],
   "source": [
    "import urllib.parse\n",
    "\n",
    "url = 'http://stats.nba.com/stats/leaguedashlineups/?'\n",
    "params = {\n",
    "    'measureType': 'Base',\n",
    "    'perMode': 'Per100Possessions',\n",
    "    'paceAdjust': 'N',\n",
    "    'plusMinus': 'Y',\n",
    "    'rank': 'N',\n",
    "    'leagueId': '00',\n",
    "    'season': None,\n",
    "    'seasonType': 'Regular Season',\n",
    "    'poRound': '0',\n",
    "    'outcome': '',\n",
    "    'location': '',\n",
    "    'month': '0',\n",
    "    'seasonSegment': '',\n",
    "    'dateFrom': '',\n",
    "    'dateTo': '',\n",
    "    'opponentTeamId': '0',\n",
    "    'vsConference': '',\n",
    "    'vsDivision': '',\n",
    "    'teamId': None,\n",
    "    'conference': '',\n",
    "    'division': '',\n",
    "    'gameSegment': '',\n",
    "    'period': '0',\n",
    "    'shotClockRange': '',\n",
    "    'lastNGames': '0',\n",
    "    'groupQuantity': None,\n",
    "}"
   ]
  },
  {
   "cell_type": "code",
   "execution_count": 37,
   "metadata": {},
   "outputs": [
    {
     "name": "stdout",
     "output_type": "stream",
     "text": [
      "Atlanta Hawks\n",
      "Boston Celtics\n",
      "Brooklyn Nets\n",
      "Charlotte Hornets\n",
      "Chicago Bulls\n",
      "Cleveland Cavaliers\n",
      "Dallas Mavericks\n",
      "Denver Nuggets\n",
      "Detroit Pistons\n",
      "Golden State Warriors\n",
      "Houston Rockets\n",
      "Indiana Pacers\n",
      "Los Angeles Clippers\n",
      "Los Angeles Lakers\n",
      "Memphis Grizzlies\n",
      "Miami Heat\n",
      "Milwaukee Bucks\n",
      "Minnesota Timberwolves\n",
      "New Orleans Pelicans\n",
      "New York Knicks\n",
      "Oklahoma City Thunder\n",
      "Orlando Magic\n",
      "Philadelphia 76ers\n",
      "Phoenix Suns\n",
      "Portland Trail Blazers\n",
      "Sacramento Kings\n",
      "San Antonio Spurs\n",
      "Toronto Raptors\n",
      "Utah Jazz\n",
      "Washington Wizards\n"
     ]
    }
   ],
   "source": [
    "ids = []\n",
    "with open(f'lineups_{stat_name}.csv', 'w') as f:\n",
    "    f.write(f'lineup_ids,lineup_names,{stat_name}\\n')\n",
    "    for t in teams:\n",
    "        for g in range(1, 6):\n",
    "            params['season'] = season\n",
    "            params['teamId'] = t['teamId']\n",
    "            params['groupQuantity'] = g\n",
    "            _url = url + urllib.parse.urlencode(params)\n",
    "            if _url not in made_requests:\n",
    "                made_requests.append(_url)\n",
    "                r = requests.get(_url, headers=custom_headers)\n",
    "                if r:\n",
    "                    d = r.json()\n",
    "                    stat_ind = d['resultSets'][0]['headers'].index(stat_name)\n",
    "                    for lineup in d['resultSets'][0]['rowSet']:\n",
    "                        player_ids = [x for x in lineup[1].split('-') if len(x)>0]\n",
    "                        players = [x.strip() for x in lineup[2].split('-')]\n",
    "                        stat = lineup[stat_ind]\n",
    "                        f.write(f\"{'-'.join(player_ids)},{'-'.join(players)},{stat}\\n\")\n",
    "        print(t['teamName'])"
   ]
  },
  {
   "cell_type": "code",
   "execution_count": 38,
   "metadata": {},
   "outputs": [],
   "source": [
    "url = 'http://stats.nba.com/stats/leaguedashplayerstats/?'\n",
    "params = {\n",
    "    'measureType': 'Base',\n",
    "    'perMode': 'Per100Possessions',\n",
    "    'paceAdjust': 'N',\n",
    "    'plusMinus': 'Y',\n",
    "    'rank': 'N',\n",
    "    'leagueId': '00',\n",
    "    'season': None,\n",
    "    'seasonType': 'Regular Season',\n",
    "    'poRound': '0',\n",
    "    'outcome': '',\n",
    "    'location': '',\n",
    "    'month': '0',\n",
    "    'seasonSegment': '',\n",
    "    'dateFrom': '',\n",
    "    'dateTo': '',\n",
    "    'opponentTeamId': '0',\n",
    "    'vsConference': '',\n",
    "    'vsDivision': '',\n",
    "    'gameScope': '',\n",
    "    'playerExperience': '',\n",
    "    'playerPosition': '',\n",
    "    'starterBench': '',\n",
    "    'draftYear': '',\n",
    "    'gameSegment': '',\n",
    "    'period': '0',\n",
    "    'lastNGames': '0',\n",
    "    'draftYear': '',\n",
    "    'draftPick': '',\n",
    "    'college': '',\n",
    "    'country': '',\n",
    "    'height': '',\n",
    "    'weight': ''\n",
    "}\n",
    "params['season'] = season"
   ]
  },
  {
   "cell_type": "code",
   "execution_count": 39,
   "metadata": {},
   "outputs": [
    {
     "name": "stdout",
     "output_type": "stream",
     "text": [
      "http://stats.nba.com/stats/leaguedashplayerstats/?measureType=Base&perMode=Per100Possessions&paceAdjust=N&plusMinus=Y&rank=N&leagueId=00&season=2018-19&seasonType=Regular+Season&poRound=0&outcome=&location=&month=0&seasonSegment=&dateFrom=&dateTo=&opponentTeamId=0&vsConference=&vsDivision=&gameScope=&playerExperience=&playerPosition=&starterBench=&draftYear=&gameSegment=&period=0&lastNGames=0&draftPick=&college=&country=&height=&weight=\n"
     ]
    }
   ],
   "source": [
    "with open(f'player_{stat_name}.csv', 'w') as f:\n",
    "    fieldnames = ['player_id', 'player', stat_name]\n",
    "    writer = csv.DictWriter(f, fieldnames=fieldnames)\n",
    "    writer.writeheader()\n",
    "    _url = url + urllib.parse.urlencode(params)\n",
    "    r = requests.get(_url, headers=custom_headers)\n",
    "    print(_url)\n",
    "    if r:\n",
    "        d = r.json()\n",
    "        stat_ind = d['resultSets'][0]['headers'].index(stat_name)\n",
    "        for p in d['resultSets'][0]['rowSet']:\n",
    "            player_id = p[0]\n",
    "            player = p[1]\n",
    "            stat = p[stat_ind]\n",
    "            writer.writerow({'player_id': player_id, 'player': player, stat_name: stat})"
   ]
  },
  {
   "cell_type": "code",
   "execution_count": null,
   "metadata": {},
   "outputs": [],
   "source": []
  }
 ],
 "metadata": {
  "kernelspec": {
   "display_name": "Python 3",
   "language": "python",
   "name": "python3"
  },
  "language_info": {
   "codemirror_mode": {
    "name": "ipython",
    "version": 3
   },
   "file_extension": ".py",
   "mimetype": "text/x-python",
   "name": "python",
   "nbconvert_exporter": "python",
   "pygments_lexer": "ipython3",
   "version": "3.6.6"
  }
 },
 "nbformat": 4,
 "nbformat_minor": 2
}
