{
 "cells": [
  {
   "cell_type": "code",
   "execution_count": 1,
   "metadata": {},
   "outputs": [],
   "source": [
    "import csv, json\n",
    "import requests\n",
    "season = '2018-19'\n",
    "with open('teams.json', 'r') as f:\n",
    "    teams = json.loads(f.read())\n",
    "import requests\n",
    "custom_headers = {\n",
    "        \"accept-encoding\": \"Accepflate, sdch\",\n",
    "        \"accept-language\": \"he-IL,he;q=0.8,en-US;q=0.6,en;q=0.4\",\n",
    "        \"cache-control\": \"max-age=0\",\n",
    "        'connection': \"keep-alive\",\n",
    "        'host': \"stats.nba.com\",\n",
    "        'referer': \"http://stats.nba.com/\",\n",
    "        \"user-agent\":\n",
    "          \"Mozilla/5.0 (Macintosh; Intel Mac OS X 10_11_2) AppleWebKit/537.36 (KHTML, like Gecko) Chrome/52.0.2743.116 Safari/537.36\"\n",
    "}"
   ]
  },
  {
   "cell_type": "code",
   "execution_count": 36,
   "metadata": {},
   "outputs": [],
   "source": [
    "import urllib.parse\n",
    "\n",
    "url = 'http://stats.nba.com/stats/leaguedashlineups/?'\n",
    "params = {\n",
    "    'measureType': 'Advanced',\n",
    "    'perMode': 'Per100Possessions',\n",
    "    'paceAdjust': 'N',\n",
    "    'plusMinus': 'Y',\n",
    "    'rank': 'N',\n",
    "    'leagueId': '00',\n",
    "    'season': None,\n",
    "    'seasonType': 'Regular Season',\n",
    "    'poRound': '0',\n",
    "    'outcome': '',\n",
    "    'location': '',\n",
    "    'month': '0',\n",
    "    'seasonSegment': '',\n",
    "    'dateFrom': '',\n",
    "    'dateTo': '',\n",
    "    'opponentTeamId': '0',\n",
    "    'vsConference': '',\n",
    "    'vsDivision': '',\n",
    "    'teamId': None,\n",
    "    'conference': '',\n",
    "    'division': '',\n",
    "    'gameSegment': '',\n",
    "    'period': '0',\n",
    "    'shotClockRange': '',\n",
    "    'lastNGames': '0',\n",
    "    'groupQuantity': None,\n",
    "}"
   ]
  },
  {
   "cell_type": "code",
   "execution_count": 37,
   "metadata": {},
   "outputs": [
    {
     "name": "stdout",
     "output_type": "stream",
     "text": [
      "Atlanta Hawks\n",
      "Boston Celtics\n",
      "Brooklyn Nets\n",
      "Charlotte Hornets\n",
      "Chicago Bulls\n",
      "Cleveland Cavaliers\n",
      "Dallas Mavericks\n",
      "Denver Nuggets\n",
      "Detroit Pistons\n",
      "Golden State Warriors\n",
      "Houston Rockets\n",
      "Indiana Pacers\n",
      "Los Angeles Clippers\n",
      "Los Angeles Lakers\n",
      "Memphis Grizzlies\n",
      "Miami Heat\n",
      "Milwaukee Bucks\n",
      "Minnesota Timberwolves\n",
      "New Orleans Pelicans\n",
      "New York Knicks\n",
      "Oklahoma City Thunder\n",
      "Orlando Magic\n",
      "Philadelphia 76ers\n",
      "Phoenix Suns\n",
      "Portland Trail Blazers\n",
      "Sacramento Kings\n",
      "San Antonio Spurs\n",
      "Toronto Raptors\n",
      "Utah Jazz\n",
      "Washington Wizards\n"
     ]
    }
   ],
   "source": [
    "ids = []\n",
    "with open(f'lineups_MINUTES.csv', 'w') as f:\n",
    "    f.write(f'lineup_ids,lineup_names,MINUTES\\n')\n",
    "    for t in teams:\n",
    "        params['season'] = season\n",
    "        params['teamId'] = t['teamId']\n",
    "        params['groupQuantity'] = 5\n",
    "        _url = url + urllib.parse.urlencode(params)\n",
    "        r = requests.get(_url, headers=custom_headers)\n",
    "        if r:\n",
    "            d = r.json()\n",
    "            stat_ind = d['resultSets'][0]['headers'].index('MIN')\n",
    "            for lineup in d['resultSets'][0]['rowSet']:\n",
    "                player_ids = [x for x in lineup[1].split('-') if len(x)>0]\n",
    "                players = [x.strip() for x in lineup[2].split('-')]\n",
    "                stat = lineup[stat_ind]\n",
    "                f.write(f\"{'-'.join(player_ids)},{'-'.join(players)},{stat}\\n\")\n",
    "        print(t['teamName'])"
   ]
  },
  {
   "cell_type": "code",
   "execution_count": 38,
   "metadata": {},
   "outputs": [
    {
     "ename": "ValueError",
     "evalue": "could not convert string to float: ' Jr.-I. Hartenstein'",
     "output_type": "error",
     "traceback": [
      "\u001b[0;31m---------------------------------------------------------------------------\u001b[0m",
      "\u001b[0;31mValueError\u001b[0m                                Traceback (most recent call last)",
      "\u001b[0;32m<ipython-input-38-2a2e6238b9e3>\u001b[0m in \u001b[0;36m<module>\u001b[0;34m\u001b[0m\n\u001b[1;32m      4\u001b[0m     \u001b[0mreader\u001b[0m \u001b[0;34m=\u001b[0m \u001b[0mcsv\u001b[0m\u001b[0;34m.\u001b[0m\u001b[0mDictReader\u001b[0m\u001b[0;34m(\u001b[0m\u001b[0mf\u001b[0m\u001b[0;34m)\u001b[0m\u001b[0;34m\u001b[0m\u001b[0m\n\u001b[1;32m      5\u001b[0m     \u001b[0;32mfor\u001b[0m \u001b[0mrow\u001b[0m \u001b[0;32min\u001b[0m \u001b[0mreader\u001b[0m\u001b[0;34m:\u001b[0m\u001b[0;34m\u001b[0m\u001b[0m\n\u001b[0;32m----> 6\u001b[0;31m         \u001b[0;32mif\u001b[0m \u001b[0mfloat\u001b[0m\u001b[0;34m(\u001b[0m\u001b[0mrow\u001b[0m\u001b[0;34m[\u001b[0m\u001b[0;34m'MINUTES'\u001b[0m\u001b[0;34m]\u001b[0m\u001b[0;34m)\u001b[0m\u001b[0;34m>=\u001b[0m\u001b[0mthreshold\u001b[0m\u001b[0;34m:\u001b[0m\u001b[0;34m\u001b[0m\u001b[0m\n\u001b[0m\u001b[1;32m      7\u001b[0m             \u001b[0mtest_lineups\u001b[0m\u001b[0;34m.\u001b[0m\u001b[0mappend\u001b[0m\u001b[0;34m(\u001b[0m\u001b[0mrow\u001b[0m\u001b[0;34m[\u001b[0m\u001b[0;34m'lineup_ids'\u001b[0m\u001b[0;34m]\u001b[0m\u001b[0;34m)\u001b[0m\u001b[0;34m\u001b[0m\u001b[0m\n\u001b[1;32m      8\u001b[0m \u001b[0mprint\u001b[0m\u001b[0;34m(\u001b[0m\u001b[0mtest_lineups\u001b[0m\u001b[0;34m)\u001b[0m\u001b[0;34m\u001b[0m\u001b[0m\n",
      "\u001b[0;31mValueError\u001b[0m: could not convert string to float: ' Jr.-I. Hartenstein'"
     ]
    }
   ],
   "source": [
    "threshold = 100\n",
    "test_lineups = []\n",
    "with open('lineups_MINUTES.csv', 'r') as f:\n",
    "    reader = csv.DictReader(f)\n",
    "    for row in reader:\n",
    "        if float(row['MINUTES'])>=threshold:\n",
    "            test_lineups.append(row['lineup_ids'])\n",
    "print(test_lineups)"
   ]
  },
  {
   "cell_type": "code",
   "execution_count": null,
   "metadata": {},
   "outputs": [],
   "source": [
    "import json\n",
    "lineups = []\n",
    "with open('players.json', 'r') as f:\n",
    "    players = json.loads(f.read())\n",
    "    for lineup in test_lineups:\n",
    "        player_ids = [int(x) for x in lineup.split('-')]\n",
    "        names = []\n",
    "        for p_id in player_ids:\n",
    "            for p in players:\n",
    "                if int(p['playerId'])==p_id:\n",
    "                    names.append(p['firstName']+' '+p['lastName'])\n",
    "        lineups.append(names)    "
   ]
  },
  {
   "cell_type": "code",
   "execution_count": null,
   "metadata": {},
   "outputs": [],
   "source": [
    "with open('test_lineups.txt', 'w') as f:\n",
    "    for lineup in lineups:\n",
    "        f.write(f\"{';'.join(lineup)}\\n\")"
   ]
  },
  {
   "cell_type": "code",
   "execution_count": null,
   "metadata": {},
   "outputs": [],
   "source": []
  }
 ],
 "metadata": {
  "kernelspec": {
   "display_name": "Python 3",
   "language": "python",
   "name": "python3"
  },
  "language_info": {
   "codemirror_mode": {
    "name": "ipython",
    "version": 3
   },
   "file_extension": ".py",
   "mimetype": "text/x-python",
   "name": "python",
   "nbconvert_exporter": "python",
   "pygments_lexer": "ipython3",
   "version": "3.6.6"
  }
 },
 "nbformat": 4,
 "nbformat_minor": 2
}
