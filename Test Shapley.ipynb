{
 "cells": [
  {
   "cell_type": "code",
   "execution_count": 2,
   "metadata": {},
   "outputs": [
    {
     "name": "stdout",
     "output_type": "stream",
     "text": [
      "{frozenset({'Stephen Curry'}): 81, frozenset({'Andre Iguodala'}): 60, frozenset({'Klay Thompson'}): 72, frozenset({'Kevin Durant'}): 25, frozenset({'Draymond Green'}): 13, frozenset({'Andre Iguodala', 'Stephen Curry'}): 28, frozenset({'Klay Thompson', 'Stephen Curry'}): 41, frozenset({'Kevin Durant', 'Stephen Curry'}): 27, frozenset({'Stephen Curry', 'Draymond Green'}): 74, frozenset({'Andre Iguodala', 'Klay Thompson'}): 32, frozenset({'Andre Iguodala', 'Kevin Durant'}): 12, frozenset({'Andre Iguodala', 'Draymond Green'}): 19, frozenset({'Kevin Durant', 'Klay Thompson'}): 32, frozenset({'Klay Thompson', 'Draymond Green'}): 79, frozenset({'Kevin Durant', 'Draymond Green'}): 65, frozenset({'Andre Iguodala', 'Klay Thompson', 'Stephen Curry'}): 47, frozenset({'Andre Iguodala', 'Kevin Durant', 'Stephen Curry'}): 47, frozenset({'Andre Iguodala', 'Stephen Curry', 'Draymond Green'}): 25, frozenset({'Kevin Durant', 'Klay Thompson', 'Stephen Curry'}): 62, frozenset({'Klay Thompson', 'Stephen Curry', 'Draymond Green'}): 8, frozenset({'Kevin Durant', 'Stephen Curry', 'Draymond Green'}): 53, frozenset({'Andre Iguodala', 'Klay Thompson', 'Kevin Durant'}): 50, frozenset({'Andre Iguodala', 'Klay Thompson', 'Draymond Green'}): 39, frozenset({'Andre Iguodala', 'Kevin Durant', 'Draymond Green'}): 78, frozenset({'Kevin Durant', 'Klay Thompson', 'Draymond Green'}): 6, frozenset({'Andre Iguodala', 'Klay Thompson', 'Stephen Curry', 'Kevin Durant'}): 19, frozenset({'Andre Iguodala', 'Klay Thompson', 'Stephen Curry', 'Draymond Green'}): 29, frozenset({'Andre Iguodala', 'Kevin Durant', 'Stephen Curry', 'Draymond Green'}): 37, frozenset({'Kevin Durant', 'Klay Thompson', 'Stephen Curry', 'Draymond Green'}): 37, frozenset({'Andre Iguodala', 'Klay Thompson', 'Kevin Durant', 'Draymond Green'}): 76, frozenset({'Stephen Curry', 'Klay Thompson', 'Kevin Durant', 'Draymond Green', 'Andre Iguodala'}): 16}\n"
     ]
    }
   ],
   "source": [
    "from itertools import chain, combinations, permutations\n",
    "import random\n",
    "\n",
    "def powerset(iterable):\n",
    "    s = list(iterable)\n",
    "    return chain.from_iterable(combinations(s, r) for r in range(len(s)+1))\n",
    "\n",
    "players = ['Stephen Curry', 'Andre Iguodala', 'Klay Thompson', 'Kevin Durant', 'Draymond Green']\n",
    "f = {}\n",
    "\n",
    "for s in list(powerset(players)):\n",
    "    if len(s)<=0: continue\n",
    "    key = frozenset(s)\n",
    "    v = random.randint(1, 81)\n",
    "    f[key] = v\n",
    "print(f)"
   ]
  },
  {
   "cell_type": "code",
   "execution_count": 3,
   "metadata": {},
   "outputs": [
    {
     "name": "stdout",
     "output_type": "stream",
     "text": [
      "{'Stephen Curry': 1.75, 'Andre Iguodala': 3.3333333333333335, 'Klay Thompson': 7.916666666666667, 'Kevin Durant': 1.1666666666666667, 'Draymond Green': 1.8333333333333333}\n"
     ]
    }
   ],
   "source": [
    "delta = []\n",
    "for p in permutations(players):\n",
    "    delta.append({})\n",
    "    s = set()\n",
    "    t = 0\n",
    "    for el in p:\n",
    "        s.add(el)\n",
    "        key = frozenset(s)\n",
    "        delta[-1][el] = f[key] - t\n",
    "        t = f[key]\n",
    "        \n",
    "shapley = {}\n",
    "for p in players:\n",
    "    vals = [d[p] for d in delta]\n",
    "    shapley[p] = sum(vals)/len(vals)\n",
    "    \n",
    "print(shapley)"
   ]
  },
  {
   "cell_type": "code",
   "execution_count": null,
   "metadata": {},
   "outputs": [],
   "source": []
  }
 ],
 "metadata": {
  "kernelspec": {
   "display_name": "Python 3",
   "language": "python",
   "name": "python3"
  },
  "language_info": {
   "codemirror_mode": {
    "name": "ipython",
    "version": 3
   },
   "file_extension": ".py",
   "mimetype": "text/x-python",
   "name": "python",
   "nbconvert_exporter": "python",
   "pygments_lexer": "ipython3",
   "version": "3.6.6"
  }
 },
 "nbformat": 4,
 "nbformat_minor": 2
}
